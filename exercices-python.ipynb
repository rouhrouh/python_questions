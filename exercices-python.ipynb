{
 "cells": [
  {
   "cell_type": "markdown",
   "id": "cc268506-9dcb-448f-abe0-32797929eaf0",
   "metadata": {},
   "source": [
    "We want to write a function `most_frequent_word` that returns the most frequent word in a text, and the number of its occurences.\n",
    "For this exercise, a word is defined as a group of consecutive non-space characters. \n",
    "\n",
    "- \"This\" is a word \"this\" is the same word\n",
    "- \"end.\" is a word\n",
    "- \"_456abc\" is a word\n",
    "- \"hello word\" is not a word"
   ]
  },
  {
   "cell_type": "code",
   "execution_count": null,
   "id": "a5ff943a-11b9-46c6-bc8f-6c2e278d0d87",
   "metadata": {},
   "outputs": [],
   "source": [
    "most_frequent_word('salut salut comment ça va')\n",
    "# ('salut', 2)"
   ]
  },
  {
   "cell_type": "markdown",
   "id": "623f03ab-6f85-4b69-ad0e-d6559ceaeb5f",
   "metadata": {},
   "source": [
    "___"
   ]
  },
  {
   "cell_type": "markdown",
   "id": "ccd82ba2-dc6a-4cd5-9ec1-8adc187227a9",
   "metadata": {},
   "source": [
    "We want to implement the fibonnaci sequence."
   ]
  },
  {
   "cell_type": "code",
   "execution_count": null,
   "id": "f6eae709-31b0-4373-b544-9b146aed4842",
   "metadata": {},
   "outputs": [],
   "source": []
  },
  {
   "cell_type": "code",
   "execution_count": null,
   "id": "12fbd2b6-3d3a-40b2-a276-77cc3682e6ef",
   "metadata": {},
   "outputs": [],
   "source": [
    "# 0 => 0\n",
    "# 1 => 1\n",
    "# 100 => 354224848179261915075"
   ]
  },
  {
   "cell_type": "markdown",
   "id": "9108b77d-8e23-4ebf-813e-6c9d9d364a53",
   "metadata": {},
   "source": [
    "___"
   ]
  },
  {
   "cell_type": "markdown",
   "id": "8cf59171-2413-4cd0-b780-9a01b1d5f548",
   "metadata": {},
   "source": [
    "You are working on an old project without documentation."
   ]
  },
  {
   "cell_type": "markdown",
   "id": "87ad7d0b-cc7e-4abe-a0b5-1f83b57841ab",
   "metadata": {},
   "source": [
    "Your task is to review the following code and improve it. Explain your decisions"
   ]
  },
  {
   "cell_type": "code",
   "execution_count": null,
   "id": "dae0a461-9390-4652-9121-c07e85510d5d",
   "metadata": {},
   "outputs": [],
   "source": [
    "from functools import reduce\n",
    "\n",
    "def compute_sum(values, initial_value):\n",
    "    return reduce(\n",
    "        lambda x, y: x + y if y else x, values, initial_value if initial_value else 0\n",
    "    )"
   ]
  },
  {
   "cell_type": "markdown",
   "id": "51376bac-2bad-4da1-a493-0f2064031308",
   "metadata": {},
   "source": [
    "___"
   ]
  },
  {
   "cell_type": "markdown",
   "id": "fed2e7fc-4ba4-4050-9254-0c0cc0968242",
   "metadata": {},
   "source": [
    "A python student just started to learn about OOP. As an exercise, she wrote the following :"
   ]
  },
  {
   "cell_type": "code",
   "execution_count": 1,
   "id": "2758399b-0f51-41fd-bd87-0004bc5b8f5a",
   "metadata": {},
   "outputs": [],
   "source": [
    "import string\n",
    "\n",
    "# put all alphabeth into a list\n",
    "alphabet = list(string.ascii_letters)\n",
    "\n",
    "\"\"\"_summary_\n",
    "\"\"\"\n",
    "# print(numbers)\n",
    "\n",
    "class Calc:\n",
    "    def __init__(self) -> None:\n",
    "        # will take all calculations and results\n",
    "        self.all_calc = {}\n",
    "\n",
    "        while True:\n",
    "            self.calculate()\n",
    "            self.ask_again()\n",
    "\n",
    "    def calculate(self):\n",
    "        calc = input(\" ---> \")\n",
    "        elements = []\n",
    "        result = \"\"\n",
    "        \n",
    "        if calc == \"\":\n",
    "            return self.calculate()\n",
    "        # separate all elements of input\n",
    "        for char in calc:\n",
    "            elements.append(char)\n",
    "        # check if a letter of alphabet is find on input\n",
    "        if any(char in elements for char in alphabet):\n",
    "            # if True :\n",
    "            print(\"ValueError : You must use only numbers and operators \")\n",
    "            return self.calculate()\n",
    "        # if False :\n",
    "        # get cacul to str\n",
    "        result = eval(result.join(elements))\n",
    "        # transform str value to obj -> calculate\n",
    "        self.all_calc[f\"{calc}\"] = result\n",
    "        print(result)\n",
    "        \n",
    "    def ask_again(self):\n",
    "        answer = input(\"Do you want to continue ? ( Y / N ) -> \").lower()\n",
    "        while True:\n",
    "            if answer == 'y':\n",
    "                break\n",
    "            elif answer == 'n':\n",
    "                # TODO: show caculs and all results --> self.all_calc\n",
    "                print(\"Your calculations were :\")\n",
    "                for key, value in self.all_calc.items():\n",
    "                    print(\"   \",key,\" -> \", value)\n",
    "                exit(0)\n",
    "            else: \n",
    "                return self.ask_again()"
   ]
  },
  {
   "cell_type": "markdown",
   "id": "12a38231-8e1b-41db-85d5-d93d81b52534",
   "metadata": {},
   "source": [
    "What do you think about the code ?"
   ]
  },
  {
   "cell_type": "markdown",
   "id": "f090d8a9-ce70-46f3-b7ae-7ea35e7c5854",
   "metadata": {},
   "source": [
    "___"
   ]
  },
  {
   "cell_type": "markdown",
   "id": "e1cbbb94-5bde-47b0-975f-b7c3d4d49ede",
   "metadata": {},
   "source": [
    "What is the zen of python ?"
   ]
  },
  {
   "cell_type": "markdown",
   "id": "7d7961d6-6d6a-4316-bf25-4d4d71eb477b",
   "metadata": {},
   "source": [
    "Talk about python web frameworks"
   ]
  },
  {
   "cell_type": "markdown",
   "id": "e10da336-d302-4b63-8f9a-d2a572ebe58b",
   "metadata": {},
   "source": [
    "Talk about concurrency in python"
   ]
  },
  {
   "cell_type": "markdown",
   "id": "43816d3e-aa84-43e9-a1f2-659f92cdf639",
   "metadata": {},
   "source": [
    "___"
   ]
  },
  {
   "cell_type": "code",
   "execution_count": null,
   "id": "44d621cc-677e-4bce-8f36-a99cd9304e7e",
   "metadata": {},
   "outputs": [],
   "source": []
  }
 ],
 "metadata": {
  "kernelspec": {
   "display_name": "Python 3 (ipykernel)",
   "language": "python",
   "name": "python3"
  },
  "language_info": {
   "codemirror_mode": {
    "name": "ipython",
    "version": 3
   },
   "file_extension": ".py",
   "mimetype": "text/x-python",
   "name": "python",
   "nbconvert_exporter": "python",
   "pygments_lexer": "ipython3",
   "version": "3.12.0"
  }
 },
 "nbformat": 4,
 "nbformat_minor": 5
}
