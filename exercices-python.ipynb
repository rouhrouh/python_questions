{
 "cells": [
  {
   "cell_type": "markdown",
   "id": "cc268506-9dcb-448f-abe0-32797929eaf0",
   "metadata": {},
   "source": [
    "We want to write a function `word_count_in_text` that returns the count of a word in a text"
   ]
  },
  {
   "cell_type": "code",
   "execution_count": 3,
   "id": "73133f41-6ed0-4937-9d5d-375fe931cb70",
   "metadata": {},
   "outputs": [],
   "source": [
    "text = \"\"\"\n",
    "Boys, boys, boys\n",
    "Boys, boys, boys\n",
    "Boys, boys, boys\n",
    "Boys, boys, boys\n",
    "Sunshines down\n",
    "So come to town\n",
    "Set your body free\n",
    "Hold me tight\n",
    "My love tonight\n",
    "Tell me you believe\n",
    "\"\"\""
   ]
  },
  {
   "cell_type": "code",
   "execution_count": 6,
   "id": "407f5538-d755-4e53-965c-babb046c53ba",
   "metadata": {},
   "outputs": [],
   "source": [
    "def word_count_in_text(word, text):\n",
    "    # magic\n",
    "    ..."
   ]
  },
  {
   "cell_type": "code",
   "execution_count": 8,
   "id": "e9d8c9f2-adea-4fc1-be5b-6d0c0fda8a4d",
   "metadata": {},
   "outputs": [
    {
     "data": {
      "text/plain": [
       "12"
      ]
     },
     "execution_count": 8,
     "metadata": {},
     "output_type": "execute_result"
    }
   ],
   "source": [
    "word_count_in_text(\"boys\", text)"
   ]
  },
  {
   "cell_type": "code",
   "execution_count": 9,
   "id": "e25cea59-b430-459f-89a7-efbb0d802e5e",
   "metadata": {},
   "outputs": [
    {
     "data": {
      "text/plain": [
       "12"
      ]
     },
     "execution_count": 9,
     "metadata": {},
     "output_type": "execute_result"
    }
   ],
   "source": [
    "word_count_in_text(\"Boys\", text)"
   ]
  },
  {
   "cell_type": "code",
   "execution_count": 12,
   "id": "a964fa15-00f0-4cd1-a94d-20c4f388890d",
   "metadata": {},
   "outputs": [
    {
     "data": {
      "text/plain": [
       "0"
      ]
     },
     "execution_count": 12,
     "metadata": {},
     "output_type": "execute_result"
    }
   ],
   "source": [
    "word_count_in_text(\"boy\", text)\n"
   ]
  },
  {
   "cell_type": "code",
   "execution_count": 10,
   "id": "b600bf9e-03af-4798-9c05-3b8d4089753d",
   "metadata": {},
   "outputs": [
    {
     "data": {
      "text/plain": [
       "0"
      ]
     },
     "execution_count": 10,
     "metadata": {},
     "output_type": "execute_result"
    }
   ],
   "source": [
    "word_count_in_text(\"Abracadabra\", text)"
   ]
  },
  {
   "cell_type": "markdown",
   "id": "623f03ab-6f85-4b69-ad0e-d6559ceaeb5f",
   "metadata": {},
   "source": [
    "___"
   ]
  },
  {
   "cell_type": "markdown",
   "id": "ccd82ba2-dc6a-4cd5-9ec1-8adc187227a9",
   "metadata": {},
   "source": [
    "We want to implement the fibonnaci sequence."
   ]
  },
  {
   "cell_type": "code",
   "execution_count": null,
   "id": "67442e08-77af-4609-b8d6-f73287bec1f7",
   "metadata": {},
   "outputs": [],
   "source": [
    "def fibonacci(n):\n",
    "    # magic\n",
    "    ..."
   ]
  },
  {
   "cell_type": "code",
   "execution_count": 22,
   "id": "37baf199-6d9f-4006-8d97-bee676b3db7e",
   "metadata": {},
   "outputs": [
    {
     "data": {
      "text/plain": [
       "0"
      ]
     },
     "execution_count": 22,
     "metadata": {},
     "output_type": "execute_result"
    }
   ],
   "source": [
    "fibonacci(0) # 0"
   ]
  },
  {
   "cell_type": "code",
   "execution_count": 23,
   "id": "7ec3688c-f4d6-419f-b547-7e65257c7fc0",
   "metadata": {},
   "outputs": [
    {
     "data": {
      "text/plain": [
       "1"
      ]
     },
     "execution_count": 23,
     "metadata": {},
     "output_type": "execute_result"
    }
   ],
   "source": [
    "fibonacci(1) # 1"
   ]
  },
  {
   "cell_type": "code",
   "execution_count": 24,
   "id": "2652df44-2084-4fd6-8b00-5e190a68c3c0",
   "metadata": {},
   "outputs": [
    {
     "data": {
      "text/plain": [
       "34"
      ]
     },
     "execution_count": 24,
     "metadata": {},
     "output_type": "execute_result"
    }
   ],
   "source": [
    "fibonacci(9) # 34"
   ]
  },
  {
   "cell_type": "code",
   "execution_count": 25,
   "id": "ae196498-0662-40a8-84f6-c51791023503",
   "metadata": {},
   "outputs": [
    {
     "data": {
      "text/plain": [
       "102334155"
      ]
     },
     "execution_count": 25,
     "metadata": {},
     "output_type": "execute_result"
    }
   ],
   "source": [
    "fibonacci(40) # 102334155"
   ]
  },
  {
   "cell_type": "code",
   "execution_count": 26,
   "id": "12fbd2b6-3d3a-40b2-a276-77cc3682e6ef",
   "metadata": {},
   "outputs": [
    {
     "data": {
      "text/plain": [
       "354224848179261915075"
      ]
     },
     "execution_count": 26,
     "metadata": {},
     "output_type": "execute_result"
    }
   ],
   "source": [
    "fibonacci(100)  # 354224848179261915075"
   ]
  },
  {
   "cell_type": "markdown",
   "id": "9108b77d-8e23-4ebf-813e-6c9d9d364a53",
   "metadata": {},
   "source": [
    "___"
   ]
  },
  {
   "cell_type": "markdown",
   "id": "3dfa0690-2aa1-4fbc-8760-7fa44cbe1066",
   "metadata": {},
   "source": [
    "We have a function `do_something` and we want to log when it is called.\n",
    "Write a decorator to log the function's name and arguments "
   ]
  },
  {
   "cell_type": "code",
   "execution_count": 58,
   "id": "71d6e772-19d0-49a6-baac-2d15c1f4b7ad",
   "metadata": {},
   "outputs": [],
   "source": [
    "@log_it\n",
    "def do_something(x):\n",
    "    print(x**2)"
   ]
  },
  {
   "cell_type": "code",
   "execution_count": 59,
   "id": "3c937aba-bbd2-4f60-aa72-50abda050944",
   "metadata": {},
   "outputs": [
    {
     "name": "stdout",
     "output_type": "stream",
     "text": [
      "do_something with 5\n",
      "25\n"
     ]
    }
   ],
   "source": [
    "do_something(5)"
   ]
  },
  {
   "cell_type": "markdown",
   "id": "6547ea67-3eda-4b68-bfc1-e080a43d18c5",
   "metadata": {},
   "source": [
    "___"
   ]
  },
  {
   "cell_type": "markdown",
   "id": "8cf59171-2413-4cd0-b780-9a01b1d5f548",
   "metadata": {},
   "source": [
    "You are working on an old project without documentation."
   ]
  },
  {
   "cell_type": "markdown",
   "id": "87ad7d0b-cc7e-4abe-a0b5-1f83b57841ab",
   "metadata": {},
   "source": [
    "Your task is to review the following code and improve it. Explain your decisions"
   ]
  },
  {
   "cell_type": "code",
   "execution_count": null,
   "id": "dae0a461-9390-4652-9121-c07e85510d5d",
   "metadata": {},
   "outputs": [],
   "source": [
    "from functools import reduce\n",
    "\n",
    "def compute_sum(values, initial_value):\n",
    "    return reduce(\n",
    "        lambda x, y: x + y if y else x, values, initial_value if initial_value else 0\n",
    "    )"
   ]
  },
  {
   "cell_type": "markdown",
   "id": "51376bac-2bad-4da1-a493-0f2064031308",
   "metadata": {},
   "source": [
    "___"
   ]
  },
  {
   "cell_type": "markdown",
   "id": "fed2e7fc-4ba4-4050-9254-0c0cc0968242",
   "metadata": {},
   "source": [
    "A python student just started to learn about OOP. As an exercise, she wrote the following :"
   ]
  },
  {
   "cell_type": "code",
   "execution_count": 1,
   "id": "2758399b-0f51-41fd-bd87-0004bc5b8f5a",
   "metadata": {},
   "outputs": [],
   "source": [
    "import string\n",
    "\n",
    "# put all alphabeth into a list\n",
    "alphabet = list(string.ascii_letters)\n",
    "\n",
    "\"\"\"_summary_\n",
    "\"\"\"\n",
    "# print(numbers)\n",
    "\n",
    "class Calc:\n",
    "    def __init__(self) -> None:\n",
    "        # will take all calculations and results\n",
    "        self.all_calc = {}\n",
    "\n",
    "        while True:\n",
    "            self.calculate()\n",
    "            self.ask_again()\n",
    "\n",
    "    def calculate(self):\n",
    "        calc = input(\" ---> \")\n",
    "        elements = []\n",
    "        result = \"\"\n",
    "        \n",
    "        if calc == \"\":\n",
    "            return self.calculate()\n",
    "        # separate all elements of input\n",
    "        for char in calc:\n",
    "            elements.append(char)\n",
    "        # check if a letter of alphabet is find on input\n",
    "        if any(char in elements for char in alphabet):\n",
    "            # if True :\n",
    "            print(\"ValueError : You must use only numbers and operators \")\n",
    "            return self.calculate()\n",
    "        # if False :\n",
    "        # get cacul to str\n",
    "        result = eval(result.join(elements))\n",
    "        # transform str value to obj -> calculate\n",
    "        self.all_calc[f\"{calc}\"] = result\n",
    "        print(result)\n",
    "        \n",
    "    def ask_again(self):\n",
    "        answer = input(\"Do you want to continue ? ( Y / N ) -> \").lower()\n",
    "        while True:\n",
    "            if answer == 'y':\n",
    "                break\n",
    "            elif answer == 'n':\n",
    "                # TODO: show caculs and all results --> self.all_calc\n",
    "                print(\"Your calculations were :\")\n",
    "                for key, value in self.all_calc.items():\n",
    "                    print(\"   \",key,\" -> \", value)\n",
    "                raise(Exception)\n",
    "            else: \n",
    "                return self.ask_again()"
   ]
  },
  {
   "cell_type": "markdown",
   "id": "12a38231-8e1b-41db-85d5-d93d81b52534",
   "metadata": {},
   "source": [
    "What do you think about the code ?"
   ]
  },
  {
   "cell_type": "markdown",
   "id": "f090d8a9-ce70-46f3-b7ae-7ea35e7c5854",
   "metadata": {},
   "source": [
    "___"
   ]
  },
  {
   "cell_type": "markdown",
   "id": "fdcdc1ea-f15d-4967-a345-9a7894e753f8",
   "metadata": {},
   "source": [
    "What sorting algorithms do you know ? \n",
    "what are their complexity ?\n",
    "can you implement one ?"
   ]
  },
  {
   "cell_type": "markdown",
   "id": "43816d3e-aa84-43e9-a1f2-659f92cdf639",
   "metadata": {},
   "source": [
    "___"
   ]
  },
  {
   "cell_type": "code",
   "execution_count": null,
   "id": "44d621cc-677e-4bce-8f36-a99cd9304e7e",
   "metadata": {},
   "outputs": [],
   "source": []
  }
 ],
 "metadata": {
  "kernelspec": {
   "display_name": "Python 3 (ipykernel)",
   "language": "python",
   "name": "python3"
  },
  "language_info": {
   "codemirror_mode": {
    "name": "ipython",
    "version": 3
   },
   "file_extension": ".py",
   "mimetype": "text/x-python",
   "name": "python",
   "nbconvert_exporter": "python",
   "pygments_lexer": "ipython3",
   "version": "3.12.0"
  }
 },
 "nbformat": 4,
 "nbformat_minor": 5
}
